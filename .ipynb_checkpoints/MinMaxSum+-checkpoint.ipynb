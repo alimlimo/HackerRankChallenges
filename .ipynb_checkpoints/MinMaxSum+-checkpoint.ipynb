{
 "cells": [
  {
   "cell_type": "code",
   "execution_count": 36,
   "metadata": {
    "scrolled": true
   },
   "outputs": [
    {
     "name": "stdout",
     "output_type": "stream",
     "text": [
      "35 53\n"
     ]
    }
   ],
   "source": [
    "import numpy as np\n",
    "\n",
    "ar=np.array([10,9,8,7,6,5,4,3,2,1])\n",
    "n=ar.shape[0]\n",
    "k=8 # k hiya le nombre li lazem tajma3houm\n",
    "sum_ar=0\n",
    "\n",
    "if k > (n//2):\n",
    "    max_sum_ar = min_sum_ar = ar.sum()\n",
    "    \n",
    "    for _ in range(0, n-k):\n",
    "        max_ar = ar.argmax()\n",
    "        min_ar = ar.argmin()\n",
    "\n",
    "        max_sum_ar=max_sum_ar-ar[min_ar]\n",
    "        min_sum_ar=min_sum_ar-ar[max_ar]\n",
    "        \n",
    "        np.delete(ar,min_ar)\n",
    "        np.delete(ar,max_ar)\n",
    "else:\n",
    "    max_sum_ar=0\n",
    "    min_sum_ar=0\n",
    "    for _ in range(0, n-k):\n",
    "        max_ar = ar.argmax()\n",
    "        min_ar = ar.argmin()\n",
    "                            \n",
    "        max_sum_ar=max_sum_ar+ar[max_ar]\n",
    "        min_sum_ar=min_sum_arar+ar[min_ar]\n",
    "        \n",
    "        ar[max_ar]=-1\n",
    "        ar[min_ar]=-1\n",
    "        \n",
    "print(min_sum_ar, max_sum_ar)"
   ]
  },
  {
   "cell_type": "code",
   "execution_count": null,
   "metadata": {},
   "outputs": [],
   "source": []
  },
  {
   "cell_type": "code",
   "execution_count": null,
   "metadata": {},
   "outputs": [],
   "source": []
  },
  {
   "cell_type": "code",
   "execution_count": null,
   "metadata": {},
   "outputs": [],
   "source": []
  }
 ],
 "metadata": {
  "kernelspec": {
   "display_name": "Python 3",
   "language": "python",
   "name": "python3"
  },
  "language_info": {
   "codemirror_mode": {
    "name": "ipython",
    "version": 3
   },
   "file_extension": ".py",
   "mimetype": "text/x-python",
   "name": "python",
   "nbconvert_exporter": "python",
   "pygments_lexer": "ipython3",
   "version": "3.7.6"
  }
 },
 "nbformat": 4,
 "nbformat_minor": 4
}
