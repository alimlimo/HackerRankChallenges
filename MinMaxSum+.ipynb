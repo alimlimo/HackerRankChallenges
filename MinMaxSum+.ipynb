{
 "cells": [
  {
   "cell_type": "code",
   "execution_count": 31,
   "metadata": {
    "scrolled": true
   },
   "outputs": [
    {
     "name": "stdout",
     "output_type": "stream",
     "text": [
      "36 52\n"
     ]
    }
   ],
   "source": [
    "ar=[10,9,8,7,6,5,4,3,2,1]\n",
    "n=len(ar)\n",
    "k=8 # k hiya le nombre li lazem tajma3houm\n",
    "sum_ar=0\n",
    "\n",
    "\n",
    "if k//(n/2)>=1:\n",
    "    for i in range(0,n):\n",
    "        sum_ar=sum_ar+ar[i]\n",
    "        max_sum_ar=sum_ar\n",
    "        min_sum_ar=sum_ar\n",
    "    L=n-k\n",
    "    for z in range(0,L):\n",
    "        max_ar=0\n",
    "        min_ar=pow(10 , 9)\n",
    "        o=0\n",
    "        u=0\n",
    "        for i in range(0,n):\n",
    "            if ar[i]>0:\n",
    "                if ar[i]>max_ar:\n",
    "                    max_ar=ar[i]\n",
    "                    o=i\n",
    "                if ar[i]<min_ar:\n",
    "                    min_ar=ar[i]\n",
    "                    u=i\n",
    "\n",
    "        ar[o]=-1\n",
    "        ar[u]=-1\n",
    "        max_sum_ar=max_sum_ar-min_ar\n",
    "        min_sum_ar=min_sum_ar-max_ar\n",
    "else:\n",
    "    max_sum_ar=0\n",
    "    min_sum_ar=0\n",
    "    for z in range(0,k):\n",
    "        max_ar = 0\n",
    "        min_ar = pow(10,9)\n",
    "        for i in range(0,n):\n",
    "            if ar[i] > 0:\n",
    "                if ar[i] > max_ar:\n",
    "                    max_ar = ar[i]\n",
    "                    o=i\n",
    "                if ar[i] < min_ar:\n",
    "                    min_ar = ar[i]\n",
    "                    u=i\n",
    "        ar[o]=-1\n",
    "        ar[u]=-1                    \n",
    "        max_sum_ar=max_sum_ar+max_ar\n",
    "        \n",
    "        min_sum_ar=min_sum_ar+min_ar\n",
    "        \n",
    "print(min_sum_ar, max_sum_ar)"
   ]
  },
  {
   "cell_type": "code",
   "execution_count": null,
   "metadata": {},
   "outputs": [],
   "source": []
  },
  {
   "cell_type": "code",
   "execution_count": null,
   "metadata": {},
   "outputs": [],
   "source": []
  },
  {
   "cell_type": "code",
   "execution_count": null,
   "metadata": {},
   "outputs": [],
   "source": []
  }
 ],
 "metadata": {
  "kernelspec": {
   "display_name": "Python 3",
   "language": "python",
   "name": "python3"
  },
  "language_info": {
   "codemirror_mode": {
    "name": "ipython",
    "version": 3
   },
   "file_extension": ".py",
   "mimetype": "text/x-python",
   "name": "python",
   "nbconvert_exporter": "python",
   "pygments_lexer": "ipython3",
   "version": "3.7.6"
  }
 },
 "nbformat": 4,
 "nbformat_minor": 4
}
