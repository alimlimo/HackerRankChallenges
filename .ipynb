{
 "cells": [
  {
   "cell_type": "code",
   "execution_count": 139,
   "metadata": {},
   "outputs": [],
   "source": [
    "def staircase(n):\n",
    "    for i in range(0,n+1):\n",
    "        for z in range (0,n-i):\n",
    "            print(\" \",end='')\n",
    "        for j in range(0,i):\n",
    "            print(\"#\",end='')\n",
    "        print(\" \")\n",
    "        \n"
   ]
  },
  {
   "cell_type": "code",
   "execution_count": 140,
   "metadata": {},
   "outputs": [
    {
     "name": "stdout",
     "output_type": "stream",
     "text": [
      "       \n",
      "     # \n",
      "    ## \n",
      "   ### \n",
      "  #### \n",
      " ##### \n",
      "###### \n"
     ]
    }
   ],
   "source": [
    "n=6\n",
    "staircase(n)"
   ]
  },
  {
   "cell_type": "code",
   "execution_count": 133,
   "metadata": {},
   "outputs": [],
   "source": [
    "def miniMaxSum(arr):\n",
    "    arr4=arr[0]+arr[1]+arr[2]+arr[3]\n",
    "    arr0=arr[4]+arr[1]+arr[2]+arr[3]\n",
    "    arr1=arr[0]+arr[4]+arr[2]+arr[3]\n",
    "    arr2=arr[0]+arr[4]+arr[1]+arr[3]\n",
    "    arr3=arr[0]+arr[4]+arr[2]+arr[1]\n",
    "    a=[arr0,arr1,arr2,arr3,arr4]\n",
    "    max_arr=a[0]\n",
    "    min_arr=a[0]\n",
    "    for i in range(0,5):\n",
    "        if max_arr < a[i]:\n",
    "            max_arr = a[i]\n",
    "        if min_arr > a[i]:\n",
    "            min_arr = a[i]\n",
    "    print(min_arr, max_arr)\n",
    "        "
   ]
  },
  {
   "cell_type": "code",
   "execution_count": 134,
   "metadata": {},
   "outputs": [
    {
     "name": "stdout",
     "output_type": "stream",
     "text": [
      "16 24\n"
     ]
    }
   ],
   "source": [
    "arr=[9, 1, 5, 3, 7]\n",
    "miniMaxSum(arr)"
   ]
  },
  {
   "cell_type": "code",
   "execution_count": 117,
   "metadata": {},
   "outputs": [],
   "source": [
    "def birthdayCakeCandles(ar):\n",
    "    n=len(ar)\n",
    "    maxx=ar[0]\n",
    "    b=0\n",
    "    for i in range (0,n):\n",
    "        if ar[i]>maxx:\n",
    "            b=1\n",
    "            maxx=ar[i]\n",
    "        elif ar[i]==maxx:\n",
    "            b=b+1\n",
    "    return b"
   ]
  },
  {
   "cell_type": "code",
   "execution_count": 118,
   "metadata": {},
   "outputs": [
    {
     "name": "stdout",
     "output_type": "stream",
     "text": [
      "2\n"
     ]
    }
   ],
   "source": [
    "ar=[2,3,1,3]\n",
    "birthdayCakeCandles(ar)"
   ]
  },
  {
   "cell_type": "code",
   "execution_count": null,
   "metadata": {},
   "outputs": [],
   "source": []
  }
 ],
 "metadata": {
  "kernelspec": {
   "display_name": "Python 3",
   "language": "python",
   "name": "python3"
  },
  "language_info": {
   "codemirror_mode": {
    "name": "ipython",
    "version": 3
   },
   "file_extension": ".py",
   "mimetype": "text/x-python",
   "name": "python",
   "nbconvert_exporter": "python",
   "pygments_lexer": "ipython3",
   "version": "3.7.6"
  }
 },
 "nbformat": 4,
 "nbformat_minor": 4
}
