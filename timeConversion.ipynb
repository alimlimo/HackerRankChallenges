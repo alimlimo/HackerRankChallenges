{
 "cells": [
  {
   "cell_type": "code",
   "execution_count": 46,
   "metadata": {},
   "outputs": [
    {
     "name": "stdout",
     "output_type": "stream",
     "text": [
      "2\n",
      "0016:25\n"
     ]
    }
   ],
   "source": [
    "def timeConversion(s):\n",
    "    k=''\n",
    "    a=int(s[1])\n",
    "    b=int(s[0])\n",
    "    print(a)\n",
    "    if s[8] == 'P':\n",
    "        if a>=8:\n",
    "            b=b+1\n",
    "        b=b+1\n",
    "        a=(a+2)%10\n",
    "        if (a==4) and (b==2):\n",
    "            a=2\n",
    "            b=1\n",
    "        k=str(b)+str(a)+s[2]+s[3]+s[4]+s[5]+s[6]+s[7]\n",
    "\n",
    "    else:\n",
    "        if a==2 and b==1:\n",
    "            a=0\n",
    "            b=0\n",
    "        k=str(b)+str(a)+s[2:-2]\n",
    "    return(k)"
   ]
  },
  {
   "cell_type": "code",
   "execution_count": null,
   "metadata": {},
   "outputs": [],
   "source": []
  },
  {
   "cell_type": "code",
   "execution_count": null,
   "metadata": {},
   "outputs": [],
   "source": []
  }
 ],
 "metadata": {
  "kernelspec": {
   "display_name": "Python 3",
   "language": "python",
   "name": "python3"
  },
  "language_info": {
   "codemirror_mode": {
    "name": "ipython",
    "version": 3
   },
   "file_extension": ".py",
   "mimetype": "text/x-python",
   "name": "python",
   "nbconvert_exporter": "python",
   "pygments_lexer": "ipython3",
   "version": "3.7.6"
  }
 },
 "nbformat": 4,
 "nbformat_minor": 4
}
